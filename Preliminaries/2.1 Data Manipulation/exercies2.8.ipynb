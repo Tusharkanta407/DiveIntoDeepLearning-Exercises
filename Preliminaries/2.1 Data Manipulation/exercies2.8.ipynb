{
 "cells": [
  {
   "cell_type": "markdown",
   "id": "53f935a1",
   "metadata": {},
   "source": [
    "# Pytorch basic"
   ]
  },
  {
   "cell_type": "code",
   "execution_count": 2,
   "id": "4e381624",
   "metadata": {},
   "outputs": [],
   "source": [
    "import torch\n",
    "\n",
    "\n"
   ]
  },
  {
   "cell_type": "code",
   "execution_count": 3,
   "id": "5d8c0c05",
   "metadata": {},
   "outputs": [
    {
     "name": "stdout",
     "output_type": "stream",
     "text": [
      "tensor([ 0.,  1.,  2.,  3.,  4.,  5.,  6.,  7.,  8.,  9., 10., 11.])\n"
     ]
    }
   ],
   "source": [
    "x = torch.arange(12, dtype=torch.float32)\n",
    "print(x)"
   ]
  },
  {
   "cell_type": "code",
   "execution_count": 4,
   "id": "4c41e578",
   "metadata": {},
   "outputs": [
    {
     "name": "stdout",
     "output_type": "stream",
     "text": [
      "torch.Size([3, 4])\n"
     ]
    }
   ],
   "source": [
    "x = torch.reshape(x, (3, 4)) \n",
    "print(x.size()) \n"
   ]
  },
  {
   "cell_type": "code",
   "execution_count": 5,
   "id": "d1d8e0ec",
   "metadata": {},
   "outputs": [
    {
     "data": {
      "text/plain": [
       "torch.Size([3, 4])"
      ]
     },
     "execution_count": 5,
     "metadata": {},
     "output_type": "execute_result"
    }
   ],
   "source": [
    "x.size()\n"
   ]
  },
  {
   "cell_type": "code",
   "execution_count": 6,
   "id": "5a1b412f",
   "metadata": {},
   "outputs": [
    {
     "data": {
      "text/plain": [
       "tensor([[[0.8016, 0.6886],\n",
       "         [0.6971, 0.4457],\n",
       "         [0.5036, 0.8734]],\n",
       "\n",
       "        [[0.7798, 0.0240],\n",
       "         [0.2618, 0.5790],\n",
       "         [0.6899, 0.6044]]])"
      ]
     },
     "execution_count": 6,
     "metadata": {},
     "output_type": "execute_result"
    }
   ],
   "source": [
    "torch.randn(3, 4)  \n",
    "torch.rand(2, 3, 2) \n"
   ]
  },
  {
   "cell_type": "code",
   "execution_count": 7,
   "id": "745908a2",
   "metadata": {},
   "outputs": [
    {
     "data": {
      "text/plain": [
       "tensor([[2, 1, 4, 3],\n",
       "        [1, 2, 3, 4],\n",
       "        [4, 3, 2, 1]])"
      ]
     },
     "execution_count": 7,
     "metadata": {},
     "output_type": "execute_result"
    }
   ],
   "source": [
    "torch.tensor([[2, 1, 4, 3], [1, 2, 3, 4], [4, 3, 2, 1]])"
   ]
  },
  {
   "cell_type": "markdown",
   "id": "aa12d397",
   "metadata": {},
   "source": [
    "# Data Indexing and Slicing"
   ]
  },
  {
   "cell_type": "code",
   "execution_count": 8,
   "id": "0098cd1c",
   "metadata": {},
   "outputs": [
    {
     "name": "stdout",
     "output_type": "stream",
     "text": [
      "tensor([[  0.,   1.,   2.,   3.],\n",
      "        [  4.,   5., 100.,   7.],\n",
      "        [  8.,   9.,  10.,  11.]])\n"
     ]
    }
   ],
   "source": [
    "x[1,2]= 100\n",
    "print(x)"
   ]
  },
  {
   "cell_type": "code",
   "execution_count": 9,
   "id": "b07c2210",
   "metadata": {},
   "outputs": [
    {
     "name": "stdout",
     "output_type": "stream",
     "text": [
      "tensor(11.)\n"
     ]
    }
   ],
   "source": [
    "print(x[-1, -1])  "
   ]
  },
  {
   "cell_type": "code",
   "execution_count": 10,
   "id": "4666cc62",
   "metadata": {},
   "outputs": [
    {
     "name": "stdout",
     "output_type": "stream",
     "text": [
      "tensor([[12., 12., 12., 12.],\n",
      "        [12., 12., 12., 12.],\n",
      "        [ 8.,  9., 10., 11.]])\n"
     ]
    }
   ],
   "source": [
    "x[:2 , :] = 12\n",
    "print(x)"
   ]
  },
  {
   "cell_type": "markdown",
   "id": "7d77ff1d",
   "metadata": {},
   "source": [
    "# Operation"
   ]
  },
  {
   "cell_type": "code",
   "execution_count": 11,
   "id": "d016f9f6",
   "metadata": {},
   "outputs": [
    {
     "name": "stdout",
     "output_type": "stream",
     "text": [
      "tensor([[12., 12., 12., 12.],\n",
      "        [12., 12., 12., 12.],\n",
      "        [ 8.,  9., 10., 11.]])\n"
     ]
    }
   ],
   "source": [
    "x.reshape(3, 4)  # This is another way to reshape the tensor\n",
    "x = x.reshape(3, 4)  # Reshape the tensor to 3 rows and 4 columns\n",
    "print(x)\n",
    "\n"
   ]
  },
  {
   "cell_type": "markdown",
   "id": "46ee2e17",
   "metadata": {},
   "source": [
    "# Operation"
   ]
  },
  {
   "cell_type": "code",
   "execution_count": 13,
   "id": "5bf61de4",
   "metadata": {},
   "outputs": [
    {
     "name": "stdout",
     "output_type": "stream",
     "text": [
      "tensor([[162754.7969, 162754.7969, 162754.7969, 162754.7969],\n",
      "        [162754.7969, 162754.7969, 162754.7969, 162754.7969],\n",
      "        [  2980.9580,   8103.0840,  22026.4648,  59874.1406]])\n"
     ]
    }
   ],
   "source": [
    "y = torch.exp(x)\n",
    "print(y)"
   ]
  },
  {
   "cell_type": "code",
   "execution_count": 22,
   "id": "e4fcb8e9",
   "metadata": {},
   "outputs": [
    {
     "name": "stdout",
     "output_type": "stream",
     "text": [
      "tensor([[162754.7969, 162754.7969, 162754.7969, 162754.7969],\n",
      "        [162754.7969, 162754.7969, 162754.7969, 162754.7969],\n",
      "        [  2980.9580,   8103.0840,  22026.4648,  59874.1406]])\n"
     ]
    }
   ],
   "source": [
    "y.reshape(6,2)\n",
    "print(y)"
   ]
  },
  {
   "cell_type": "code",
   "execution_count": 28,
   "id": "883f13f1",
   "metadata": {},
   "outputs": [
    {
     "data": {
      "text/plain": [
       "tensor([[ 0.,  1.,  2.,  3.,  1.,  2.,  3.,  4.],\n",
       "        [ 4.,  5.,  6.,  7.,  1.,  2.,  3.,  4.],\n",
       "        [ 8.,  9., 10., 11.,  4.,  3.,  2.,  1.]])"
      ]
     },
     "execution_count": 28,
     "metadata": {},
     "output_type": "execute_result"
    }
   ],
   "source": [
    "x = torch.arange(12, dtype = torch.float32 ).reshape(3,4)  \n",
    "y = torch.tensor([[1,2,3,4] , [1,2,3,4] , [4,3,2,1]])\n",
    "torch.cat((x,y))\n",
    "torch.cat((x,y) , dim = 1)"
   ]
  },
  {
   "cell_type": "markdown",
   "id": "c620b501",
   "metadata": {},
   "source": []
  }
 ],
 "metadata": {
  "kernelspec": {
   "display_name": "deep_learning_env",
   "language": "python",
   "name": "python3"
  },
  "language_info": {
   "codemirror_mode": {
    "name": "ipython",
    "version": 3
   },
   "file_extension": ".py",
   "mimetype": "text/x-python",
   "name": "python",
   "nbconvert_exporter": "python",
   "pygments_lexer": "ipython3",
   "version": "3.12.4"
  }
 },
 "nbformat": 4,
 "nbformat_minor": 5
}
